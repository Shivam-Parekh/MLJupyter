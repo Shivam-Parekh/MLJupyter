{
 "cells": [
  {
   "cell_type": "markdown",
   "metadata": {},
   "source": [
    "Tasks:Set 1"
   ]
  },
  {
   "cell_type": "code",
   "execution_count": 582,
   "metadata": {},
   "outputs": [],
   "source": [
    "from sklearn.datasets import load_boston\n",
    "import numpy as np"
   ]
  },
  {
   "cell_type": "code",
   "execution_count": 583,
   "metadata": {},
   "outputs": [],
   "source": [
    "data, target = load_boston(return_X_y=True)"
   ]
  },
  {
   "cell_type": "markdown",
   "metadata": {},
   "source": [
    "Least Square Folds"
   ]
  },
  {
   "cell_type": "code",
   "execution_count": 584,
   "metadata": {
    "scrolled": true
   },
   "outputs": [],
   "source": [
    "x = len(data)\n",
    "y = len(data[0])\n",
    "features = np.ones((x,y+1))\n",
    "features[:,0:13]=data"
   ]
  },
  {
   "cell_type": "code",
   "execution_count": 585,
   "metadata": {},
   "outputs": [],
   "source": [
    "b = w[13]"
   ]
  },
  {
   "cell_type": "code",
   "execution_count": 586,
   "metadata": {},
   "outputs": [
    {
     "data": {
      "text/plain": [
       "(506, 14)"
      ]
     },
     "execution_count": 586,
     "metadata": {},
     "output_type": "execute_result"
    }
   ],
   "source": [
    "features.shape"
   ]
  },
  {
   "cell_type": "code",
   "execution_count": 587,
   "metadata": {},
   "outputs": [
    {
     "name": "stdout",
     "output_type": "stream",
     "text": [
      "(101, 14)\n"
     ]
    }
   ],
   "source": [
    "fold1 = features[:101,:]\n",
    "print(fold1.shape)\n",
    "foldlabel1 = target[:101]"
   ]
  },
  {
   "cell_type": "code",
   "execution_count": 588,
   "metadata": {},
   "outputs": [
    {
     "name": "stdout",
     "output_type": "stream",
     "text": [
      "(101, 14)\n"
     ]
    }
   ],
   "source": [
    "fold2 = features[101:202,:]\n",
    "print(fold2.shape)\n",
    "foldlabel2 = target[101:202]"
   ]
  },
  {
   "cell_type": "code",
   "execution_count": 589,
   "metadata": {},
   "outputs": [
    {
     "name": "stdout",
     "output_type": "stream",
     "text": [
      "(101, 14)\n"
     ]
    }
   ],
   "source": [
    "fold3 = features[202:303,:]\n",
    "print(fold3.shape)\n",
    "foldlabel3 = target[202:303]"
   ]
  },
  {
   "cell_type": "code",
   "execution_count": 590,
   "metadata": {},
   "outputs": [
    {
     "name": "stdout",
     "output_type": "stream",
     "text": [
      "(101, 14)\n"
     ]
    }
   ],
   "source": [
    "fold4 = features[303:404,:]\n",
    "print(fold4.shape)\n",
    "foldlabel4 = target[303:404]"
   ]
  },
  {
   "cell_type": "code",
   "execution_count": 591,
   "metadata": {},
   "outputs": [
    {
     "name": "stdout",
     "output_type": "stream",
     "text": [
      "(102, 14)\n"
     ]
    }
   ],
   "source": [
    "fold5 = features[404:507,:]\n",
    "print(fold5.shape)\n",
    "foldlabel5 = target[404:507]"
   ]
  },
  {
   "cell_type": "code",
   "execution_count": 592,
   "metadata": {},
   "outputs": [],
   "source": [
    "mattotal = [fold1,fold2,fold3,fold4,fold5]\n",
    "labeltotal = [foldlabel1,foldlabel2,foldlabel3,foldlabel4,foldlabel5]"
   ]
  },
  {
   "cell_type": "markdown",
   "metadata": {},
   "source": [
    "Least Squares Algorithm"
   ]
  },
  {
   "cell_type": "code",
   "execution_count": 593,
   "metadata": {},
   "outputs": [],
   "source": [
    "def error_rate(trained,actual):\n",
    "    w = np.zeros(trained.shape[0])\n",
    "    for i in range(trained.shape[0]):\n",
    "        w[i] = (trained[i] - actual[i])**2\n",
    "    return np.mean(w)"
   ]
  },
  {
   "cell_type": "code",
   "execution_count": 594,
   "metadata": {},
   "outputs": [],
   "source": [
    "def least_squares(x,y,test):\n",
    "        wfull = np.linalg.inv(x.T@x)@x.T@y\n",
    "        return test@wfull"
   ]
  },
  {
   "cell_type": "code",
   "execution_count": 595,
   "metadata": {},
   "outputs": [],
   "source": [
    "def cross_validation(k, splitdata, splitlabels,lam=None):\n",
    "    z = np.zeros(k)\n",
    "    final = [];\n",
    "    for i in range(k):\n",
    "        training_data = np.concatenate(np.delete(splitdata, i,0),axis=0)\n",
    "        train_labels = np.concatenate(np.delete(splitlabels, i,0),axis=0)\n",
    "        test_data = splitdata[i]\n",
    "        test_labels = splitlabels[i]\n",
    "        if(lam):\n",
    "            y_tested = ridgeregression(training_data,train_labels,test_data,lam)\n",
    "        else:    \n",
    "            y_tested = least_squares(training_data,train_labels,test_data)\n",
    "        z[i] = error_rate(y_tested,test_labels)\n",
    "        final = np.concatenate((final,y_tested))\n",
    "    return np.mean(z),final\n",
    "        "
   ]
  },
  {
   "cell_type": "code",
   "execution_count": 596,
   "metadata": {},
   "outputs": [
    {
     "name": "stdout",
     "output_type": "stream",
     "text": [
      "Mean Error 37.125390481938354 .\n"
     ]
    }
   ],
   "source": [
    "mean,testans = cross_validation(5, mattotal,labeltotal)\n",
    "print(\"Mean Error\",mean,\".\")"
   ]
  },
  {
   "cell_type": "markdown",
   "metadata": {},
   "source": [
    "Least Square Plot"
   ]
  },
  {
   "cell_type": "code",
   "execution_count": 597,
   "metadata": {},
   "outputs": [
    {
     "data": {
      "text/plain": [
       "[<matplotlib.lines.Line2D at 0x2501472d9e8>]"
      ]
     },
     "execution_count": 597,
     "metadata": {},
     "output_type": "execute_result"
    },
    {
     "data": {
      "image/png": "[encoded data removed]",
      "text/plain": [
       "<Figure size 432x288 with 1 Axes>"
      ]
     },
     "metadata": {},
     "output_type": "display_data"
    }
   ],
   "source": [
    "import matplotlib.pyplot as plt\n",
    "plt.scatter(target, testans)\n",
    "plt.title(\"Measured vs Predicted\")\n",
    "plt.xlabel(\"Measured\")\n",
    "plt.ylabel(\"Predicted\")\n",
    "plt.plot(np.linspace(0,50,506),np.linspace(0,50,506))"
   ]
  },
  {
   "cell_type": "markdown",
   "metadata": {},
   "source": [
    "Tasks:Set 2"
   ]
  },
  {
   "cell_type": "markdown",
   "metadata": {},
   "source": [
    "Ridge Regression"
   ]
  },
  {
   "cell_type": "code",
   "execution_count": 602,
   "metadata": {},
   "outputs": [],
   "source": [
    "def ridgeregression(x,y,test,lam):\n",
    "    w = np.linalg.inv((x.T@x + lam*np.identity(x.shape[1])))@x.T@y\n",
    "    return test@w"
   ]
  },
  {
   "cell_type": "code",
   "execution_count": 603,
   "metadata": {},
   "outputs": [],
   "source": [
    "def rrmain(k,splitdata,splitlabels,lam):\n",
    "    newsplitdata = np.delete(splitdata, 0,0)\n",
    "    newsplitlabels = np.delete(splitlabels, 0,0)\n",
    "    errlam = np.zeros(lam.size)\n",
    "    for i in range(lam.size):\n",
    "        errlam[i] = (cross_validation(k-1,newsplitdata,newsplitlabels,lam[i]))[0]\n",
    "    bestlam = lam[np.argmin(errlam)]\n",
    "    return cross_validation(k,splitdata,splitlabels,bestlam)"
   ]
  },
  {
   "cell_type": "code",
   "execution_count": 604,
   "metadata": {},
   "outputs": [],
   "source": [
    "rrmain,rrtestans = rrmain(5,mattotal,labeltotal,np.linspace(0,10,11))"
   ]
  },
  {
   "cell_type": "code",
   "execution_count": 605,
   "metadata": {},
   "outputs": [
    {
     "name": "stdout",
     "output_type": "stream",
     "text": [
      "Mean Error 32.51717769795693 .\n"
     ]
    }
   ],
   "source": [
    "print(\"Mean Error\",rrmain,\".\")"
   ]
  }
 ],
 "metadata": {
  "kernelspec": {
   "display_name": "Python 3",
   "language": "python",
   "name": "python3"
  },
  "language_info": {
   "codemirror_mode": {
    "name": "ipython",
    "version": 3
   },
   "file_extension": ".py",
   "mimetype": "text/x-python",
   "name": "python",
   "nbconvert_exporter": "python",
   "pygments_lexer": "ipython3",
   "version": "3.6.5"
  }
 },
 "nbformat": 4,
 "nbformat_minor": 2
}
