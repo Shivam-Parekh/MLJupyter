{
 "cells": [
  {
   "cell_type": "code",
   "execution_count": 1,
   "metadata": {},
   "outputs": [
    {
     "data": {
      "text/html": [
       "<iframe id=\"igraph\" scrolling=\"no\" style=\"border:none;\" seamless=\"seamless\" src=\"https://plot.ly/~sparekh1248/4.embed\" height=\"525px\" width=\"100%\"></iframe>"
      ],
      "text/plain": [
       "<plotly.tools.PlotlyDisplay object>"
      ]
     },
     "execution_count": 1,
     "metadata": {},
     "output_type": "execute_result"
    }
   ],
   "source": [
    "import  plotly.plotly as py\n",
    "import plotly.graph_objs as go\n",
    "\n",
    "trace = go.Scatter(\n",
    "    x = [1930,1940,1950,1960,1970,1980,1990,2000,2010],\n",
    "    y = [1.015,1.33,2.29,3.26,4.951,6.759,9.366,13.131,15.599]\n",
    ")\n",
    "data = [trace,]\n",
    "layout = go.Layout(\n",
    "    title = 'Real US GDP (in trillions)',\n",
    "    xaxis = dict(\n",
    "        title = 'Year'\n",
    "    ),\n",
    "    yaxis=dict(\n",
    "        title = 'Trillions of $'\n",
    "    )\n",
    ")\n",
    "fig = go.Figure(data=data, layout=layout)\n",
    "py.iplot(fig, filename='RealUSGDP')"
   ]
  },
  {
   "cell_type": "markdown",
   "metadata": {},
   "source": [
    "2. The relationship between GDP and year is similiar to one that follows exponential growth.  This is seen due to the trend of gradual increase of the delta in between coinciding data points as the years progress. "
   ]
  },
  {
   "cell_type": "code",
   "execution_count": 58,
   "metadata": {},
   "outputs": [
    {
     "data": {
      "text/html": [
       "<iframe id=\"igraph\" scrolling=\"no\" style=\"border:none;\" seamless=\"seamless\" src=\"https://plot.ly/~sparekh1248/6.embed\" height=\"525px\" width=\"100%\"></iframe>"
      ],
      "text/plain": [
       "<plotly.tools.PlotlyDisplay object>"
      ]
     },
     "execution_count": 58,
     "metadata": {},
     "output_type": "execute_result"
    }
   ],
   "source": [
    "import plotly.plotly as py\n",
    "import plotly.graph_objs as go\n",
    "import numpy as np\n",
    "trace = go.Scatter(\n",
    "    x = np.linspace(1930,2010,9),\n",
    "    y = [1.015,1.33,2.29,3.26,4.951,6.759,9.366,13.131,15.599],\n",
    "    name = 'Data Points'\n",
    ")\n",
    "v = np.linspace(1930,2010,500)\n",
    "k = (6.79792*(10**-26))*np.exp([0.0302229*l for l in v])\n",
    "trace2 = go.Scatter(\n",
    "    x = np.linspace(1930,2010,500),\n",
    "    y = k,\n",
    "    mode = 'lines',\n",
    "    name = 'e^x Function'\n",
    ")\n",
    "data = [trace,trace2]\n",
    "layout = go.Layout(\n",
    "    title = 'Real US GDP (in trillions)',\n",
    "    xaxis = dict(\n",
    "        title = 'Year'\n",
    "    ),\n",
    "    yaxis=dict(\n",
    "        title = 'Trillions of $'\n",
    "    )\n",
    ")\n",
    "fig = go.Figure(data=data, layout=layout)\n",
    "py.iplot(fig, filename='RealUSGDPBothgraphs')"
   ]
  }
 ],
 "metadata": {
  "kernelspec": {
   "display_name": "Python 3",
   "language": "python",
   "name": "python3"
  },
  "language_info": {
   "codemirror_mode": {
    "name": "ipython",
    "version": 3
   },
   "file_extension": ".py",
   "mimetype": "text/x-python",
   "name": "python",
   "nbconvert_exporter": "python",
   "pygments_lexer": "ipython3",
   "version": "3.6.5"
  }
 },
 "nbformat": 4,
 "nbformat_minor": 2
}
