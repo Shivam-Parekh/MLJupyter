{
 "cells": [
  {
   "cell_type": "code",
   "execution_count": 142,
   "metadata": {},
   "outputs": [],
   "source": [
    "import numpy as np"
   ]
  },
  {
   "cell_type": "markdown",
   "metadata": {},
   "source": [
    "Gradient Descent"
   ]
  },
  {
   "cell_type": "markdown",
   "metadata": {},
   "source": [
    "1."
   ]
  },
  {
   "cell_type": "code",
   "execution_count": 143,
   "metadata": {},
   "outputs": [],
   "source": [
    "def gradientx(x,y):\n",
    "    f = 4*x**3+4*x*y-42*x+2*y**2-14\n",
    "    return f"
   ]
  },
  {
   "cell_type": "code",
   "execution_count": 144,
   "metadata": {},
   "outputs": [],
   "source": [
    "def gradienty(x,y):\n",
    "    f = 4*y**3-26*y+4*x*y+2*x**2-22\n",
    "    return f"
   ]
  },
  {
   "cell_type": "code",
   "execution_count": 145,
   "metadata": {},
   "outputs": [],
   "source": [
    "def nextstep(x,y,a,s):\n",
    "    n = [a[0] - s*gradientx(x,y),a[1]-s*gradienty(x,y)]\n",
    "    return n"
   ]
  },
  {
   "cell_type": "code",
   "execution_count": 146,
   "metadata": {},
   "outputs": [
    {
     "name": "stdout",
     "output_type": "stream",
     "text": [
      "92\n",
      "[-3.7793102533777407, -3.28318599128616]\n"
     ]
    }
   ],
   "source": [
    "x = [0,-4]\n",
    "y = 0.005\n",
    "for i in range(10000):\n",
    "    x = nextstep(x[0],x[1],x,y)\n",
    "    z = np.linalg.norm([gradientx(x[0],x[1]),gradienty(x[0],x[1])])\n",
    "    if(z < 10**(-12)):\n",
    "        print(i)\n",
    "        print(x)\n",
    "        break"
   ]
  },
  {
   "cell_type": "code",
   "execution_count": 147,
   "metadata": {},
   "outputs": [
    {
     "name": "stdout",
     "output_type": "stream",
     "text": [
      "37\n",
      "[-3.7793102533777447, -3.283185991286164]\n"
     ]
    }
   ],
   "source": [
    "x = [0,-4]\n",
    "y = 0.01\n",
    "for i in range(10000):\n",
    "    x = nextstep(x[0],x[1],x,y)\n",
    "    z = np.linalg.norm([gradientx(x[0],x[1]),gradienty(x[0],x[1])])\n",
    "    if(z < 10**(-12)):\n",
    "        print(i)\n",
    "        print(x)\n",
    "        break"
   ]
  },
  {
   "cell_type": "markdown",
   "metadata": {},
   "source": [
    "2."
   ]
  },
  {
   "cell_type": "code",
   "execution_count": 148,
   "metadata": {},
   "outputs": [
    {
     "name": "stdout",
     "output_type": "stream",
     "text": [
      "37\n",
      "[-3.7793102533777447, -3.283185991286164]\n"
     ]
    }
   ],
   "source": [
    "x = [0,-4]\n",
    "y = 0.01\n",
    "a = np.zeros((10000,2))\n",
    "for i in range(10000):\n",
    "    x = nextstep(x[0],x[1],x,y)\n",
    "    a[i] = nextstep(x[0],x[1],x,y)\n",
    "    z = np.linalg.norm([gradientx(x[0],x[1]),gradienty(x[0],x[1])])\n",
    "    if(z < 10**(-12)):\n",
    "        print(i)\n",
    "        print(x)\n",
    "        break"
   ]
  },
  {
   "cell_type": "code",
   "execution_count": 149,
   "metadata": {},
   "outputs": [
    {
     "name": "stdout",
     "output_type": "stream",
     "text": [
      "90\n",
      "[3.584428340330489, -1.848126526964375]\n"
     ]
    }
   ],
   "source": [
    "x = [0.5,-4]\n",
    "y = 0.01\n",
    "b = np.zeros((10000,2))\n",
    "for i in range(10000):\n",
    "    x = nextstep(x[0],x[1],x,y)\n",
    "    b[i] = nextstep(x[0],x[1],x,y)\n",
    "    z = np.linalg.norm([gradientx(x[0],x[1]),gradienty(x[0],x[1])])\n",
    "    if(z < 10**(-12)):\n",
    "        print(i)\n",
    "        print(x)\n",
    "        break"
   ]
  },
  {
   "cell_type": "code",
   "execution_count": 150,
   "metadata": {},
   "outputs": [
    {
     "name": "stdout",
     "output_type": "stream",
     "text": [
      "40\n",
      "[-2.8051180869527297, 3.1313125182505717]\n"
     ]
    }
   ],
   "source": [
    "x = [0, 4]\n",
    "y = 0.01\n",
    "c = np.zeros((10000,2))\n",
    "for i in range(10000):\n",
    "    x = nextstep(x[0],x[1],x,y)\n",
    "    c[i] = nextstep(x[0],x[1],x,y)\n",
    "    z = np.linalg.norm([gradientx(x[0],x[1]),gradienty(x[0],x[1])])\n",
    "    if(z < 10**(-12)):\n",
    "        print(i)\n",
    "        print(x)\n",
    "        break"
   ]
  },
  {
   "cell_type": "code",
   "execution_count": 151,
   "metadata": {},
   "outputs": [
    {
     "name": "stdout",
     "output_type": "stream",
     "text": [
      "110\n",
      "[2.9999999999999876, 2.00000000000003]\n"
     ]
    }
   ],
   "source": [
    "x = [0.5, 4]\n",
    "y = 0.01\n",
    "d = np.zeros((1000,2))\n",
    "for i in range(10000):\n",
    "    x = nextstep(x[0],x[1],x,y)\n",
    "    d[i] = nextstep(x[0],x[1],x,y)\n",
    "    z = np.linalg.norm([gradientx(x[0],x[1]),gradienty(x[0],x[1])])\n",
    "    if(z < 10**(-12)):\n",
    "        print(i)\n",
    "        print(x)\n",
    "        break"
   ]
  },
  {
   "cell_type": "code",
   "execution_count": 152,
   "metadata": {},
   "outputs": [],
   "source": [
    "import matplotlib.pyplot as plt"
   ]
  },
  {
   "cell_type": "code",
   "execution_count": 153,
   "metadata": {},
   "outputs": [],
   "source": [
    "import matplotlib\n",
    "import numpy as np\n",
    "import matplotlib.cm as cm\n",
    "import matplotlib.pyplot as plt\n",
    "\n",
    "\n",
    "delta = 100\n",
    "x = np.linspace(-5.0, 5.0, delta)\n",
    "y = np.linspace(-5.0, 5.0, delta)\n",
    "X, Y = np.meshgrid(x, y)\n",
    "Z = (X**2+Y-11)**2+(X+Y**2-7)**2"
   ]
  },
  {
   "cell_type": "code",
   "execution_count": 154,
   "metadata": {
    "scrolled": true
   },
   "outputs": [
    {
     "data": {
      "text/plain": [
       "Text(0.5,1,'Contour of f(w)')"
      ]
     },
     "execution_count": 154,
     "metadata": {},
     "output_type": "execute_result"
    },
    {
     "data": {
      "image/png": "[encoded data removed]",
      "text/plain": [
       "<Figure size 432x288 with 1 Axes>"
      ]
     },
     "metadata": {},
     "output_type": "display_data"
    }
   ],
   "source": [
    "fig, ax = plt.subplots()\n",
    "levels = np.linspace(-5.0, 5.0, 100)\n",
    "x,y \n",
    "CS = ax.contour(X, Y, Z,levels = levels)\n",
    "ax.plot(a[0],a[1])\n",
    "ax.plot(b[0],b[1])\n",
    "ax.plot(c[0],c[1])\n",
    "ax.plot(d[0],d[1])\n",
    "ax.clabel(CS, inline=1, fontsize=10)\n",
    "ax.set_title('Contour of f(w)')"
   ]
  },
  {
   "cell_type": "code",
   "execution_count": 155,
   "metadata": {},
   "outputs": [
    {
     "name": "stdout",
     "output_type": "stream",
     "text": [
      "[[ 0.94763469 -2.07027624]\n",
      " [ 1.44435554 -1.97310189]\n",
      " [ 2.10659023 -1.88657544]\n",
      " ...\n",
      " [ 0.          0.        ]\n",
      " [ 0.          0.        ]\n",
      " [ 0.          0.        ]]\n"
     ]
    }
   ],
   "source": [
    "print(b)"
   ]
  },
  {
   "cell_type": "markdown",
   "metadata": {},
   "source": [
    "Parameter Estimation"
   ]
  },
  {
   "cell_type": "code",
   "execution_count": 156,
   "metadata": {},
   "outputs": [],
   "source": [
    "from scipy.stats import multivariate_normal"
   ]
  },
  {
   "cell_type": "code",
   "execution_count": 157,
   "metadata": {},
   "outputs": [],
   "source": [
    "x = multivariate_normal.rvs([-1,0,4,1,0.5],2*np.identity(5))"
   ]
  },
  {
   "cell_type": "markdown",
   "metadata": {},
   "source": [
    "NOTE: Purposely skipped 6th iteration as it took to long to run.  Therefore, only first 5 are shown below."
   ]
  },
  {
   "cell_type": "code",
   "execution_count": 158,
   "metadata": {},
   "outputs": [
    {
     "name": "stdout",
     "output_type": "stream",
     "text": [
      "[-1.41105222 -0.84305528  3.32619549  0.65671108  0.74481202]\n",
      "[-1.02503767 -0.08223216  3.95063673  0.84849628  0.42691196]\n",
      "[-1.01330190e+00  2.53388100e-03  3.97846416e+00  9.50889502e-01\n",
      "  4.52627365e-01]\n",
      "[-0.98538473  0.01182301  3.98397058  0.97822718  0.51547814]\n",
      "[-0.99722175  0.0057098   4.00275606  0.98975027  0.50154899]\n",
      "[1.51149887e+00 3.81209833e-02 5.30316124e-03 1.32396085e-03\n",
      " 1.55372663e-04]\n"
     ]
    }
   ],
   "source": [
    "m = [-1,0,4,1,0.5]\n",
    "a = [10,100,1000,10000,100000]\n",
    "d = np.zeros(5)\n",
    "for i in range(5):\n",
    "    n = np.zeros(5)\n",
    "    for j in range(10**(i+1)):\n",
    "        x = multivariate_normal.rvs(m,2*np.identity(5))\n",
    "        n = n + x\n",
    "    k = n/(10**(i+1))\n",
    "    print(k)\n",
    "    d[i] = np.linalg.norm(k-m)**2\n",
    "print(d)"
   ]
  },
  {
   "cell_type": "code",
   "execution_count": 159,
   "metadata": {},
   "outputs": [
    {
     "data": {
      "image/png": "[encoded data removed]",
      "text/plain": [
       "<Figure size 432x288 with 1 Axes>"
      ]
     },
     "metadata": {},
     "output_type": "display_data"
    }
   ],
   "source": [
    "plt.loglog(d,a)\n",
    "plt.grid(True)\n",
    "plt.title('en vs N')\n",
    "plt.show()"
   ]
  }
 ],
 "metadata": {
  "kernelspec": {
   "display_name": "Python 3",
   "language": "python",
   "name": "python3"
  },
  "language_info": {
   "codemirror_mode": {
    "name": "ipython",
    "version": 3
   },
   "file_extension": ".py",
   "mimetype": "text/x-python",
   "name": "python",
   "nbconvert_exporter": "python",
   "pygments_lexer": "ipython3",
   "version": "3.6.5"
  }
 },
 "nbformat": 4,
 "nbformat_minor": 2
}
