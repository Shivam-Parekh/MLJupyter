{
 "cells": [
  {
   "cell_type": "code",
   "execution_count": 1,
   "metadata": {},
   "outputs": [],
   "source": [
    "import numpy as np"
   ]
  },
  {
   "cell_type": "markdown",
   "metadata": {},
   "source": [
    "Gradient Descent"
   ]
  },
  {
   "cell_type": "markdown",
   "metadata": {},
   "source": [
    "1."
   ]
  },
  {
   "cell_type": "code",
   "execution_count": 2,
   "metadata": {},
   "outputs": [],
   "source": [
    "def gradientx(x,y):\n",
    "    f = 4*x**3+4*x*y-42*x+2*y**2-14\n",
    "    return f"
   ]
  },
  {
   "cell_type": "code",
   "execution_count": 3,
   "metadata": {},
   "outputs": [],
   "source": [
    "def gradienty(x,y):\n",
    "    f = 4*y**3-26*y+4*x*y+2*x**2-22\n",
    "    return f"
   ]
  },
  {
   "cell_type": "code",
   "execution_count": 4,
   "metadata": {},
   "outputs": [],
   "source": [
    "def nextstep(x,y,a,s):\n",
    "    n = [a[0] - s*gradientx(x,y),a[1]-s*gradienty(x,y)]\n",
    "    return n"
   ]
  },
  {
   "cell_type": "code",
   "execution_count": 5,
   "metadata": {},
   "outputs": [
    {
     "name": "stdout",
     "output_type": "stream",
     "text": [
      "92\n",
      "[-3.7793102533777407, -3.28318599128616]\n"
     ]
    }
   ],
   "source": [
    "x = [0,-4]\n",
    "y = 0.005\n",
    "for i in range(10000):\n",
    "    x = nextstep(x[0],x[1],x,y)\n",
    "    z = np.linalg.norm([gradientx(x[0],x[1]),gradienty(x[0],x[1])])\n",
    "    if(z < 10**(-12)):\n",
    "        print(i)\n",
    "        print(x)\n",
    "        break"
   ]
  },
  {
   "cell_type": "code",
   "execution_count": 6,
   "metadata": {},
   "outputs": [
    {
     "name": "stdout",
     "output_type": "stream",
     "text": [
      "37\n",
      "[-3.7793102533777447, -3.283185991286164]\n"
     ]
    }
   ],
   "source": [
    "x = [0,-4]\n",
    "y = 0.01\n",
    "for i in range(10000):\n",
    "    x = nextstep(x[0],x[1],x,y)\n",
    "    z = np.linalg.norm([gradientx(x[0],x[1]),gradienty(x[0],x[1])])\n",
    "    if(z < 10**(-12)):\n",
    "        print(i)\n",
    "        print(x)\n",
    "        break"
   ]
  },
  {
   "cell_type": "markdown",
   "metadata": {},
   "source": [
    "2."
   ]
  },
  {
   "cell_type": "code",
   "execution_count": 7,
   "metadata": {},
   "outputs": [
    {
     "name": "stdout",
     "output_type": "stream",
     "text": [
      "37\n",
      "[-3.7793102533777447, -3.283185991286164]\n"
     ]
    }
   ],
   "source": [
    "x = [0,-4]\n",
    "y = 0.01\n",
    "a = zeros(10000)\n",
    "for i in range(10000):\n",
    "    a[i] = nextstep(x[0],x[1],x,y)\n",
    "    z = np.linalg.norm([gradientx(x[0],x[1]),gradienty(x[0],x[1])])\n",
    "    if(z < 10**(-12)):\n",
    "        print(i)\n",
    "        print(x)\n",
    "        break"
   ]
  },
  {
   "cell_type": "code",
   "execution_count": 8,
   "metadata": {},
   "outputs": [
    {
     "name": "stdout",
     "output_type": "stream",
     "text": [
      "90\n",
      "[3.584428340330489, -1.848126526964375]\n"
     ]
    }
   ],
   "source": [
    "x = [0.5,-4]\n",
    "y = 0.01\n",
    "b = zeros(10000)\n",
    "for i in range(10000):\n",
    "    b[i] = nextstep(x[0],x[1],x,y)\n",
    "    z = np.linalg.norm([gradientx(x[0],x[1]),gradienty(x[0],x[1])])\n",
    "    if(z < 10**(-12)):\n",
    "        print(i)\n",
    "        print(x)\n",
    "        break"
   ]
  },
  {
   "cell_type": "code",
   "execution_count": 9,
   "metadata": {},
   "outputs": [
    {
     "name": "stdout",
     "output_type": "stream",
     "text": [
      "40\n",
      "[-2.8051180869527297, 3.1313125182505717]\n"
     ]
    }
   ],
   "source": [
    "x = [0, 4]\n",
    "y = 0.01\n",
    "c = zeros(10000)\n",
    "for i in range(10000):\n",
    "    c[i] = nextstep(x[0],x[1],x,y)\n",
    "    z = np.linalg.norm([gradientx(x[0],x[1]),gradienty(x[0],x[1])])\n",
    "    if(z < 10**(-12)):\n",
    "        print(i)\n",
    "        print(x)\n",
    "        break"
   ]
  },
  {
   "cell_type": "code",
   "execution_count": 10,
   "metadata": {},
   "outputs": [
    {
     "name": "stdout",
     "output_type": "stream",
     "text": [
      "110\n",
      "[2.9999999999999876, 2.00000000000003]\n"
     ]
    }
   ],
   "source": [
    "x = [0.5, 4]\n",
    "y = 0.01\n",
    "for i in range(10000):\n",
    "    x = nextstep(x[0],x[1],x,y)\n",
    "    z = np.linalg.norm([gradientx(x[0],x[1]),gradienty(x[0],x[1])])\n",
    "    if(z < 10**(-12)):\n",
    "        print(i)\n",
    "        print(x)\n",
    "        break"
   ]
  },
  {
   "cell_type": "code",
   "execution_count": 11,
   "metadata": {},
   "outputs": [],
   "source": [
    "import matplotlib.pyplot as plt"
   ]
  },
  {
   "cell_type": "code",
   "execution_count": 27,
   "metadata": {},
   "outputs": [],
   "source": [
    "import matplotlib\n",
    "import numpy as np\n",
    "import matplotlib.cm as cm\n",
    "import matplotlib.pyplot as plt\n",
    "\n",
    "\n",
    "delta = 100\n",
    "x = np.linspace(-5.0, 5.0, delta)\n",
    "y = np.linspace(-5.0, 5.0, delta)\n",
    "Z = (X**2+Y-11)**2+(X+Y**2-7)**2"
   ]
  },
  {
   "cell_type": "code",
   "execution_count": 30,
   "metadata": {},
   "outputs": [
    {
     "data": {
      "text/plain": [
       "Text(0.5,1,'Contour of f(w)')"
      ]
     },
     "execution_count": 30,
     "metadata": {},
     "output_type": "execute_result"
    },
    {
     "data": {
      "image/png": "[encoded data removed]",
      "text/plain": [
       "<Figure size 432x288 with 1 Axes>"
      ]
     },
     "metadata": {},
     "output_type": "display_data"
    }
   ],
   "source": [
    "fig, ax = plt.subplots()\n",
    "levels = np.linspace(-5.0, 5.0, delta)\n",
    "CS = ax.contour(X, Y, Z,levels = levels)\n",
    "ax.clabel(CS, inline=1, fontsize=10)\n",
    "ax.set_title('Contour of f(w)')"
   ]
  },
  {
   "cell_type": "markdown",
   "metadata": {},
   "source": [
    "Parameter Estimation"
   ]
  },
  {
   "cell_type": "code",
   "execution_count": 12,
   "metadata": {},
   "outputs": [],
   "source": [
    "from scipy.stats import multivariate_normal"
   ]
  },
  {
   "cell_type": "code",
   "execution_count": 13,
   "metadata": {},
   "outputs": [],
   "source": [
    "x = multivariate_normal.rvs([-1,0,4,1,0.5],2*np.identity(5))"
   ]
  },
  {
   "cell_type": "code",
   "execution_count": 14,
   "metadata": {},
   "outputs": [
    {
     "name": "stdout",
     "output_type": "stream",
     "text": [
      "[-1.02410998 -0.67917747  3.81615318  0.74483772  0.55060406]\n",
      "[-1.05105129  0.11569846  3.94682844  1.09349664  0.61846241]\n",
      "[-0.94080384 -0.07159274  3.89247555  1.01123403  0.57079548]\n",
      "[-1.01820857 -0.00824192  4.00015133  0.99091124  0.52071323]\n",
      "[-1.00386266e+00  2.82100204e-03  4.00532905e+00  9.92955565e-01\n",
      "  5.01991669e-01]\n",
      "[5.63331540e-01 4.15945445e-02 2.53294160e-02 9.11147795e-04\n",
      " 1.04867784e-04]\n"
     ]
    }
   ],
   "source": [
    "m = [-1,0,4,1,0.5]\n",
    "a = [10,100,1000,10000,100000]\n",
    "d = np.zeros(5)\n",
    "for i in range(5):\n",
    "    n = np.zeros(5)\n",
    "    for j in range(10**(i+1)):\n",
    "        x = multivariate_normal.rvs(m,2*np.identity(5))\n",
    "        n = n + x\n",
    "    k = n/(10**(i+1))\n",
    "    print(k)\n",
    "    d[i] = np.linalg.norm(k-m)**2\n",
    "print(d)"
   ]
  },
  {
   "cell_type": "code",
   "execution_count": 15,
   "metadata": {},
   "outputs": [
    {
     "data": {
      "image/png": "[encoded data removed]",
      "text/plain": [
       "<Figure size 432x288 with 1 Axes>"
      ]
     },
     "metadata": {},
     "output_type": "display_data"
    }
   ],
   "source": [
    "plt.loglog(d,a)\n",
    "plt.grid(True)\n",
    "plt.title('en vs N')\n",
    "plt.show()"
   ]
  }
 ],
 "metadata": {
  "kernelspec": {
   "display_name": "Python 3",
   "language": "python",
   "name": "python3"
  },
  "language_info": {
   "codemirror_mode": {
    "name": "ipython",
    "version": 3
   },
   "file_extension": ".py",
   "mimetype": "text/x-python",
   "name": "python",
   "nbconvert_exporter": "python",
   "pygments_lexer": "ipython3",
   "version": "3.6.5"
  }
 },
 "nbformat": 4,
 "nbformat_minor": 2
}
